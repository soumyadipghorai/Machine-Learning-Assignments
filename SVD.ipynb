{
 "cells": [
  {
   "cell_type": "code",
   "execution_count": 1,
   "metadata": {},
   "outputs": [],
   "source": [
    "import numpy as np \n",
    "from scipy.linalg import svd, eig "
   ]
  },
  {
   "cell_type": "code",
   "execution_count": 2,
   "metadata": {},
   "outputs": [
    {
     "data": {
      "text/plain": [
       "array([[1, 2, 3],\n",
       "       [2, 3, 4],\n",
       "       [4, 5, 6]])"
      ]
     },
     "execution_count": 2,
     "metadata": {},
     "output_type": "execute_result"
    }
   ],
   "source": [
    "A = np.array([\n",
    "    [1,2,3],\n",
    "    [2,3,4],\n",
    "    [4,5,6]\n",
    "])\n",
    "\n",
    "A"
   ]
  },
  {
   "cell_type": "code",
   "execution_count": 6,
   "metadata": {},
   "outputs": [
    {
     "data": {
      "text/plain": [
       "array([[1., 2., 3.],\n",
       "       [2., 3., 4.],\n",
       "       [4., 5., 6.]])"
      ]
     },
     "execution_count": 6,
     "metadata": {},
     "output_type": "execute_result"
    }
   ],
   "source": [
    "U, s, Vt = svd(A)\n",
    "sigma = np.zeros((A.shape[0], A.shape[1]))\n",
    "\n",
    "sigma[:A.shape[0], :A.shape[0]] = np.diag(s)\n",
    "\n",
    "n_elements = 2\n",
    "sigma = sigma[:, :n_elements]\n",
    "Vt = Vt[:n_elements, :]\n",
    "\n",
    "B = U.dot(sigma.dot(Vt))\n",
    "B"
   ]
  },
  {
   "cell_type": "code",
   "execution_count": 10,
   "metadata": {},
   "outputs": [
    {
     "name": "stdout",
     "output_type": "stream",
     "text": [
      "first transformation \n",
      " [[-3.68472343 -0.65024091]\n",
      " [-5.37765907 -0.28422328]\n",
      " [-8.76353036  0.44781197]]\n",
      "final transformation \n",
      " [[-3.68472343 -0.65024091]\n",
      " [-5.37765907 -0.28422328]\n",
      " [-8.76353036  0.44781197]]\n"
     ]
    }
   ],
   "source": [
    "T1 = U.dot(sigma)\n",
    "print('first transformation \\n', T1)\n",
    "T2 = A.dot(Vt.T)\n",
    "print('final transformation \\n', T2)"
   ]
  },
  {
   "cell_type": "code",
   "execution_count": null,
   "metadata": {},
   "outputs": [],
   "source": []
  }
 ],
 "metadata": {
  "interpreter": {
   "hash": "78f06ca9406df9cd700ff8c04aca5c1ebc2f7c29a6cfb7725741d9325210d4ad"
  },
  "kernelspec": {
   "display_name": "Python 3.10.2 64-bit",
   "language": "python",
   "name": "python3"
  },
  "language_info": {
   "codemirror_mode": {
    "name": "ipython",
    "version": 3
   },
   "file_extension": ".py",
   "mimetype": "text/x-python",
   "name": "python",
   "nbconvert_exporter": "python",
   "pygments_lexer": "ipython3",
   "version": "3.10.2"
  },
  "orig_nbformat": 4
 },
 "nbformat": 4,
 "nbformat_minor": 2
}
